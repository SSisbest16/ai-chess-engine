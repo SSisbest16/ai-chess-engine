{
  "nbformat": 4,
  "nbformat_minor": 0,
  "metadata": {
    "colab": {
      "provenance": []
    },
    "kernelspec": {
      "name": "python3",
      "display_name": "Python 3"
    },
    "language_info": {
      "name": "python"
    }
  },
  "cells": [
    {
      "cell_type": "code",
      "execution_count": 10,
      "metadata": {
        "colab": {
          "base_uri": "https://localhost:8080/"
        },
        "id": "KOGLKfsX6HFL",
        "outputId": "10fca5d9-c9d7-4814-e7e9-03d7f5dad452"
      },
      "outputs": [
        {
          "output_type": "stream",
          "name": "stdout",
          "text": [
            "Requirement already satisfied: python-chess in /usr/local/lib/python3.11/dist-packages (1.999)\n",
            "Requirement already satisfied: chess<2,>=1 in /usr/local/lib/python3.11/dist-packages (from python-chess) (1.11.2)\n"
          ]
        }
      ],
      "source": [
        "\n",
        "!pip install python-chess"
      ]
    },
    {
      "cell_type": "code",
      "source": [
        "import chess.pgn\n",
        "import numpy as np\n",
        "import chess\n",
        "import pandas as pd"
      ],
      "metadata": {
        "id": "YqSjmdr294df"
      },
      "execution_count": 11,
      "outputs": []
    },
    {
      "cell_type": "code",
      "source": [
        "import numpy"
      ],
      "metadata": {
        "id": "TDbmI5Hw9i_i"
      },
      "execution_count": 12,
      "outputs": []
    },
    {
      "cell_type": "code",
      "source": [
        "import chess\n",
        "\n",
        "def board_to_matrix_play(board):\n",
        "    piece_map = board.piece_map()\n",
        "    matrix = np.zeros((8, 8, 1), dtype=np.int8)\n",
        "    for square, piece in piece_map.items():\n",
        "        matrix[square // 8, square % 8, 0] = piece.piece_type * (1 if piece.color == chess.WHITE else -1)\n",
        "    return matrix\n",
        "\n",
        "def find_best_move(board, model):\n",
        "    legal_moves = list(board.legal_moves)\n",
        "    best_move = None\n",
        "    best_score = -np.inf\n",
        "    for move in legal_moves:\n",
        "        board.push(move)\n",
        "        pred = model.predict(board_to_matrix_play(board).reshape(1, 8, 8, 1), verbose=0)\n",
        "        score = np.max(pred)\n",
        "        if score > best_score:\n",
        "            best_score = score\n",
        "            best_move = move\n",
        "        board.pop()\n",
        "    return best_move\n",
        "\n",
        "def play_against_model(model):\n",
        "    board = chess.Board()\n",
        "    while not board.is_game_over():\n",
        "        print(board)\n",
        "        user_move = input(\"Your move (or type 'abort' to quit): \")\n",
        "        if user_move.lower() == 'abort':\n",
        "            print(\"Game aborted.\")\n",
        "            break\n",
        "        try:\n",
        "            move = board.parse_san(user_move)\n",
        "            if move in board.legal_moves:\n",
        "                board.push(move)\n",
        "            else:\n",
        "                print(\"Illegal move. Try again.\")\n",
        "                continue\n",
        "        except Exception:\n",
        "            print(\"Invalid move. Try again.\")\n",
        "            continue\n",
        "        if board.is_game_over():\n",
        "            print(\"Game over:\", board.result())\n",
        "            break\n",
        "        model_move = find_best_move(board, model)\n",
        "        if model_move is None:\n",
        "            print(\"Model cannot find a move. Game over.\")\n",
        "            break\n",
        "        print(f\"Model move: {board.san(model_move)}\")\n",
        "        board.push(model_move)\n",
        "    print(\"Final board:\")\n",
        "    print(board)\n",
        "\n",
        "# Load and play\n",
        "from tensorflow.keras.models import load_model\n",
        "model = load_model('/content/chess_cnn_model (1).keras')\n",
        "play_against_model(model)"
      ],
      "metadata": {
        "colab": {
          "base_uri": "https://localhost:8080/"
        },
        "id": "P018-M8I6nLB",
        "outputId": "1bb098de-a76c-4ebe-e418-b483a1cb2492"
      },
      "execution_count": null,
      "outputs": [
        {
          "output_type": "stream",
          "name": "stdout",
          "text": [
            "r n b q k b n r\n",
            "p p p p p p p p\n",
            ". . . . . . . .\n",
            ". . . . . . . .\n",
            ". . . . . . . .\n",
            ". . . . . . . .\n",
            "P P P P P P P P\n",
            "R N B Q K B N R\n",
            "Your move (or type 'abort' to quit): e4\n",
            "Model move: f5\n",
            "r n b q k b n r\n",
            "p p p p p . p p\n",
            ". . . . . . . .\n",
            ". . . . . p . .\n",
            ". . . . P . . .\n",
            ". . . . . . . .\n",
            "P P P P . P P P\n",
            "R N B Q K B N R\n",
            "Your move (or type 'abort' to quit): Nf5\n",
            "Invalid move. Try again.\n",
            "r n b q k b n r\n",
            "p p p p p . p p\n",
            ". . . . . . . .\n",
            ". . . . . p . .\n",
            ". . . . P . . .\n",
            ". . . . . . . .\n",
            "P P P P . P P P\n",
            "R N B Q K B N R\n",
            "Your move (or type 'abort' to quit): Nf6\n",
            "Invalid move. Try again.\n",
            "r n b q k b n r\n",
            "p p p p p . p p\n",
            ". . . . . . . .\n",
            ". . . . . p . .\n",
            ". . . . P . . .\n",
            ". . . . . . . .\n",
            "P P P P . P P P\n",
            "R N B Q K B N R\n",
            "Your move (or type 'abort' to quit): d4\n",
            "Model move: e5\n",
            "r n b q k b n r\n",
            "p p p p . . p p\n",
            ". . . . . . . .\n",
            ". . . . p p . .\n",
            ". . . P P . . .\n",
            ". . . . . . . .\n",
            "P P P . . P P P\n",
            "R N B Q K B N R\n",
            "Your move (or type 'abort' to quit): BF5\n",
            "Invalid move. Try again.\n",
            "r n b q k b n r\n",
            "p p p p . . p p\n",
            ". . . . . . . .\n",
            ". . . . p p . .\n",
            ". . . P P . . .\n",
            ". . . . . . . .\n",
            "P P P . . P P P\n",
            "R N B Q K B N R\n",
            "Your move (or type 'abort' to quit): Bf5\n",
            "Invalid move. Try again.\n",
            "r n b q k b n r\n",
            "p p p p . . p p\n",
            ". . . . . . . .\n",
            ". . . . p p . .\n",
            ". . . P P . . .\n",
            ". . . . . . . .\n",
            "P P P . . P P P\n",
            "R N B Q K B N R\n"
          ]
        }
      ]
    },
    {
      "cell_type": "code",
      "source": [],
      "metadata": {
        "id": "QL9G4AfY-SWn"
      },
      "execution_count": null,
      "outputs": []
    }
  ]
}