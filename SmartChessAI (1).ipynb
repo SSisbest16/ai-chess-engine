{
  "cells": [
    {
      "cell_type": "code",
      "execution_count": null,
      "id": "3d47807e-d011-49bf-a87e-7962b43f8634",
      "metadata": {
        "id": "3d47807e-d011-49bf-a87e-7962b43f8634"
      },
      "outputs": [],
      "source": [
        "import chess.pgn\n",
        "import numpy as np\n",
        "import pandas as pd\n",
        "from sklearn.model_selection import train_test_split\n",
        "\n",
        "# Parse PGN file and extract moves\n",
        "def parse_pgn(pgn_file):\n",
        "    games = []\n",
        "    with open(pgn_file) as f:\n",
        "        while True:\n",
        "            game = chess.pgn.read_game(f)\n",
        "            if game is None:\n",
        "                break\n",
        "            moves = []\n",
        "            node = game\n",
        "            while not node.is_end():\n",
        "                next_node = node.variation(0)\n",
        "                move = node.board().san(next_node.move)\n",
        "                moves.append(move)\n",
        "                node = next_node\n",
        "            games.append(moves)\n",
        "    return games\n",
        "\n",
        "games = parse_pgn('Carlsen.pgn')\n",
        "\n",
        "# Convert board to matrix\n",
        "def board_to_matrix(board):\n",
        "    piece_map = board.piece_map()\n",
        "    matrix = np.zeros((8, 8), dtype=np.int8)\n",
        "    for square, piece in piece_map.items():\n",
        "        matrix[square // 8, square % 8] = piece.piece_type * (1 if piece.color == chess.WHITE else -1)\n",
        "    return matrix\n",
        "\n",
        "# Generate input/output pairs\n",
        "X, y = [], []\n",
        "for moves in games:\n",
        "    board = chess.Board()\n",
        "    for move in moves:\n",
        "        X.append(board_to_matrix(board))\n",
        "        board.push_san(move)\n",
        "        y.append(board_to_matrix(board))\n",
        "\n",
        "X = np.array(X)\n",
        "y = np.array(y)"
      ]
    },
    {
      "cell_type": "code",
      "execution_count": null,
      "id": "cba8df38",
      "metadata": {
        "id": "cba8df38"
      },
      "outputs": [],
      "source": [
        "# Reshape for CNN input\n",
        "X = X.reshape(-1, 8, 8, 1)\n",
        "y = y.reshape(-1, 8, 8, 1)\n",
        "\n",
        "# One-hot encode y for 13 possible pieces (6 types * 2 colors + empty)\n",
        "def to_one_hot(y):\n",
        "    # Map: 0=empty, 1-6=white, -1 to -6=black\n",
        "    one_hot = np.zeros((y.shape[0], 8, 8, 13), dtype=np.int8)\n",
        "    for idx, board in enumerate(y):\n",
        "        for i in range(8):\n",
        "            for j in range(8):\n",
        "                v = board[i, j, 0]\n",
        "                if v == 0:\n",
        "                    one_hot[idx, i, j, 0] = 1\n",
        "                elif v > 0:\n",
        "                    one_hot[idx, i, j, v] = 1\n",
        "                else:\n",
        "                    one_hot[idx, i, j, 6 - v] = 1  # -1 to -6 maps to 7-12\n",
        "    return one_hot\n",
        "\n",
        "y_onehot = to_one_hot(y)\n",
        "\n",
        "# Split into train, val, test\n",
        "X_train, X_temp, y_train, y_temp = train_test_split(X, y_onehot, test_size=0.3, random_state=42)\n",
        "X_val, X_test, y_val, y_test = train_test_split(X_temp, y_temp, test_size=0.5, random_state=42)"
      ]
    },
    {
      "cell_type": "code",
      "execution_count": null,
      "id": "9eeb1e2d",
      "metadata": {
        "id": "9eeb1e2d"
      },
      "outputs": [],
      "source": [
        "import tensorflow as tf\n",
        "from tensorflow.keras.models import Sequential\n",
        "from tensorflow.keras.layers import Conv2D, MaxPooling2D, Flatten, Dense, Reshape, Input\n",
        "\n",
        "model = Sequential([\n",
        "    Input(shape=(8, 8, 1)),\n",
        "    Conv2D(32, kernel_size=(3, 3), activation='relu', padding='same'),\n",
        "    MaxPooling2D(pool_size=(2, 2)),\n",
        "    Conv2D(64, kernel_size=(3, 3), activation='relu', padding='same'),\n",
        "    Flatten(),\n",
        "    Dense(512, activation='relu'),\n",
        "    Dense(8 * 8 * 13, activation='softmax'),\n",
        "    Reshape((8, 8, 13))\n",
        "])\n",
        "\n",
        "model.compile(optimizer='adam', loss='categorical_crossentropy', metrics=['accuracy'])"
      ]
    },
    {
      "cell_type": "code",
      "execution_count": null,
      "id": "fcf64735",
      "metadata": {
        "id": "fcf64735",
        "outputId": "d0ef4866-3d0d-4523-8136-f2d0255d95e1"
      },
      "outputs": [
        {
          "name": "stdout",
          "output_type": "stream",
          "text": [
            "Epoch 1/5\n",
            "\u001b[1m12173/12173\u001b[0m \u001b[32m━━━━━━━━━━━━━━━━━━━━\u001b[0m\u001b[37m\u001b[0m \u001b[1m198s\u001b[0m 16ms/step - accuracy: 0.9484 - loss: 0.2027 - val_accuracy: 0.9491 - val_loss: 0.2028\n",
            "Epoch 2/5\n",
            "\u001b[1m12173/12173\u001b[0m \u001b[32m━━━━━━━━━━━━━━━━━━━━\u001b[0m\u001b[37m\u001b[0m \u001b[1m198s\u001b[0m 16ms/step - accuracy: 0.9511 - loss: 0.1930 - val_accuracy: 0.9502 - val_loss: 0.1974\n",
            "Epoch 3/5\n",
            "\u001b[1m12173/12173\u001b[0m \u001b[32m━━━━━━━━━━━━━━━━━━━━\u001b[0m\u001b[37m\u001b[0m \u001b[1m199s\u001b[0m 16ms/step - accuracy: 0.9528 - loss: 0.1869 - val_accuracy: 0.9518 - val_loss: 0.1934\n",
            "Epoch 4/5\n",
            "\u001b[1m12173/12173\u001b[0m \u001b[32m━━━━━━━━━━━━━━━━━━━━\u001b[0m\u001b[37m\u001b[0m \u001b[1m199s\u001b[0m 16ms/step - accuracy: 0.9540 - loss: 0.1826 - val_accuracy: 0.9538 - val_loss: 0.1880\n",
            "Epoch 5/5\n",
            "\u001b[1m12173/12173\u001b[0m \u001b[32m━━━━━━━━━━━━━━━━━━━━\u001b[0m\u001b[37m\u001b[0m \u001b[1m199s\u001b[0m 16ms/step - accuracy: 0.9549 - loss: 0.1790 - val_accuracy: 0.9530 - val_loss: 0.1902\n"
          ]
        }
      ],
      "source": [
        "history = model.fit(\n",
        "    X_train, y_train,\n",
        "    validation_data=(X_val, y_val),\n",
        "    epochs=5,\n",
        "    batch_size=32\n",
        ")"
      ]
    },
    {
      "cell_type": "code",
      "execution_count": null,
      "id": "04a7286c",
      "metadata": {
        "id": "04a7286c",
        "outputId": "88a6e5a1-9960-47ba-98b0-096206d816ee"
      },
      "outputs": [
        {
          "name": "stdout",
          "output_type": "stream",
          "text": [
            "Train accuracy: 0.9552\n",
            "Validation accuracy: 0.9530\n",
            "Test accuracy: 0.9529\n"
          ]
        }
      ],
      "source": [
        "train_loss, train_acc = model.evaluate(X_train, y_train, verbose=0)\n",
        "val_loss, val_acc = model.evaluate(X_val, y_val, verbose=0)\n",
        "test_loss, test_acc = model.evaluate(X_test, y_test, verbose=0)\n",
        "\n",
        "print(f\"Train accuracy: {train_acc:.4f}\")\n",
        "print(f\"Validation accuracy: {val_acc:.4f}\")\n",
        "print(f\"Test accuracy: {test_acc:.4f}\")\n",
        "\n",
        "model.save('chess_cnn_model.keras')"
      ]
    }
  ],
  "metadata": {
    "kernelspec": {
      "display_name": "Python 3",
      "language": "python",
      "name": "python3"
    },
    "language_info": {
      "codemirror_mode": {
        "name": "ipython",
        "version": 3
      },
      "file_extension": ".py",
      "mimetype": "text/x-python",
      "name": "python",
      "nbconvert_exporter": "python",
      "pygments_lexer": "ipython3",
      "version": "3.12.4"
    },
    "colab": {
      "provenance": []
    }
  },
  "nbformat": 4,
  "nbformat_minor": 5
}